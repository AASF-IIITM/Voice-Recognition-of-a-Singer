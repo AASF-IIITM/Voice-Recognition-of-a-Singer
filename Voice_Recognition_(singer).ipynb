{
  "nbformat": 4,
  "nbformat_minor": 0,
  "metadata": {
    "colab": {
      "name": "Voice_Recognition (singer).ipynb",
      "version": "0.3.2",
      "provenance": [],
      "include_colab_link": true
    },
    "kernelspec": {
      "name": "python3",
      "display_name": "Python 3"
    },
    "accelerator": "GPU"
  },
  "cells": [
    {
      "cell_type": "markdown",
      "metadata": {
        "id": "view-in-github",
        "colab_type": "text"
      },
      "source": [
        "<a href=\"https://colab.research.google.com/github/paddy-03/Voice-Recognition-of-a-Singer/blob/master/Voice_Recognition_(singer).ipynb\" target=\"_parent\"><img src=\"https://colab.research.google.com/assets/colab-badge.svg\" alt=\"Open In Colab\"/></a>"
      ]
    },
    {
      "metadata": {
        "id": "46mF-k_rTJg_",
        "colab_type": "code",
        "colab": {}
      },
      "cell_type": "code",
      "source": [
        "import numpy as np\n",
        "import matplotlib.pyplot as plt"
      ],
      "execution_count": 0,
      "outputs": []
    },
    {
      "metadata": {
        "id": "oubQXxepg9S-",
        "colab_type": "code",
        "outputId": "13b458fd-22d4-4bb7-ae08-e9b790a14369",
        "colab": {
          "base_uri": "https://localhost:8080/",
          "height": 122
        }
      },
      "cell_type": "code",
      "source": [
        "from google.colab import drive\n",
        "drive.mount('/content/drive')"
      ],
      "execution_count": 2,
      "outputs": [
        {
          "output_type": "stream",
          "text": [
            "Go to this URL in a browser: https://accounts.google.com/o/oauth2/auth?client_id=947318989803-6bn6qk8qdgf4n4g3pfee6491hc0brc4i.apps.googleusercontent.com&redirect_uri=urn%3Aietf%3Awg%3Aoauth%3A2.0%3Aoob&scope=email%20https%3A%2F%2Fwww.googleapis.com%2Fauth%2Fdocs.test%20https%3A%2F%2Fwww.googleapis.com%2Fauth%2Fdrive%20https%3A%2F%2Fwww.googleapis.com%2Fauth%2Fdrive.photos.readonly%20https%3A%2F%2Fwww.googleapis.com%2Fauth%2Fpeopleapi.readonly&response_type=code\n",
            "\n",
            "Enter your authorization code:\n",
            "··········\n",
            "Mounted at /content/drive\n"
          ],
          "name": "stdout"
        }
      ]
    },
    {
      "metadata": {
        "id": "yp9lSqyLhklr",
        "colab_type": "code",
        "colab": {}
      },
      "cell_type": "code",
      "source": [
        "import os\n",
        "os.chdir('./drive/My Drive')"
      ],
      "execution_count": 0,
      "outputs": []
    },
    {
      "metadata": {
        "id": "YRZejHfLhz3h",
        "colab_type": "code",
        "colab": {}
      },
      "cell_type": "code",
      "source": [
        "baseDir = '/content/drive/My Drive/Specs/'\n",
        "trainDir = baseDir + 'train'\n",
        "testDir = baseDir + 'test'\n",
        "valDir = baseDir + 'validation'"
      ],
      "execution_count": 0,
      "outputs": []
    },
    {
      "metadata": {
        "id": "BLnOLxfWtR8V",
        "colab_type": "code",
        "colab": {}
      },
      "cell_type": "code",
      "source": [
        "width = 250\n",
        "height = 250\n",
        "epochs = 20\n",
        "batch_size = 10\n",
        "num_classes = 8"
      ],
      "execution_count": 0,
      "outputs": []
    },
    {
      "metadata": {
        "id": "BZ-CLB5biLsQ",
        "colab_type": "code",
        "colab": {}
      },
      "cell_type": "code",
      "source": [
        "import keras\n",
        "from keras.applications import VGG16\n",
        "from keras.preprocessing.image import ImageDataGenerator\n",
        "from keras import layers\n",
        "from keras import models\n",
        "from keras.layers import Conv2D, MaxPool2D, Flatten,Dense, Dropout"
      ],
      "execution_count": 0,
      "outputs": []
    },
    {
      "metadata": {
        "id": "q3m4PM2VGwN3",
        "colab_type": "code",
        "colab": {}
      },
      "cell_type": "code",
      "source": [
        "conv_base = VGG16(weights='imagenet',\n",
        "include_top=False,\n",
        "input_shape=(250, 250, 3))\n",
        "conv_base.trainable = False  #freezing all layers of the vgg16 model"
      ],
      "execution_count": 0,
      "outputs": []
    },
    {
      "metadata": {
        "id": "GROZovGUxiZb",
        "colab_type": "code",
        "colab": {}
      },
      "cell_type": "code",
      "source": [
        "#dense layers\n",
        "from keras import models\n",
        "from keras import layers\n",
        "from keras import optimizers\n",
        "\n",
        "model = models.Sequential()\n",
        "model.add(layers.Dense(1024, activation='relu',input_dim=7*7*512))\n",
        "model.add(Dropout(0.2))\n",
        "model.add(layers.Dense(8, activation='softmax'))"
      ],
      "execution_count": 0,
      "outputs": []
    },
    {
      "metadata": {
        "id": "sR6wMsa2ydhb",
        "colab_type": "text"
      },
      "cell_type": "markdown",
      "source": [
        ""
      ]
    },
    {
      "metadata": {
        "id": "raQoaVnqyFZW",
        "colab_type": "code",
        "outputId": "affcce9c-5b57-4a9e-b115-5da2e7464f79",
        "colab": {
          "base_uri": "https://localhost:8080/",
          "height": 238
        }
      },
      "cell_type": "code",
      "source": [
        "model.summary()"
      ],
      "execution_count": 10,
      "outputs": [
        {
          "output_type": "stream",
          "text": [
            "_________________________________________________________________\n",
            "Layer (type)                 Output Shape              Param #   \n",
            "=================================================================\n",
            "dense_1 (Dense)              (None, 1024)              8389632   \n",
            "_________________________________________________________________\n",
            "dropout_1 (Dropout)          (None, 1024)              0         \n",
            "_________________________________________________________________\n",
            "dense_2 (Dense)              (None, 8)                 8200      \n",
            "=================================================================\n",
            "Total params: 8,397,832\n",
            "Trainable params: 8,397,832\n",
            "Non-trainable params: 0\n",
            "_________________________________________________________________\n"
          ],
          "name": "stdout"
        }
      ]
    },
    {
      "metadata": {
        "id": "CsyaPihL3Jpd",
        "colab_type": "code",
        "colab": {
          "base_uri": "https://localhost:8080/",
          "height": 782
        },
        "outputId": "f445163f-4d5e-4c94-cdc8-454296dc83e4"
      },
      "cell_type": "code",
      "source": [
        "conv_base.summary()"
      ],
      "execution_count": 36,
      "outputs": [
        {
          "output_type": "stream",
          "text": [
            "_________________________________________________________________\n",
            "Layer (type)                 Output Shape              Param #   \n",
            "=================================================================\n",
            "input_2 (InputLayer)         (None, 250, 250, 3)       0         \n",
            "_________________________________________________________________\n",
            "block1_conv1 (Conv2D)        (None, 250, 250, 64)      1792      \n",
            "_________________________________________________________________\n",
            "block1_conv2 (Conv2D)        (None, 250, 250, 64)      36928     \n",
            "_________________________________________________________________\n",
            "block1_pool (MaxPooling2D)   (None, 125, 125, 64)      0         \n",
            "_________________________________________________________________\n",
            "block2_conv1 (Conv2D)        (None, 125, 125, 128)     73856     \n",
            "_________________________________________________________________\n",
            "block2_conv2 (Conv2D)        (None, 125, 125, 128)     147584    \n",
            "_________________________________________________________________\n",
            "block2_pool (MaxPooling2D)   (None, 62, 62, 128)       0         \n",
            "_________________________________________________________________\n",
            "block3_conv1 (Conv2D)        (None, 62, 62, 256)       295168    \n",
            "_________________________________________________________________\n",
            "block3_conv2 (Conv2D)        (None, 62, 62, 256)       590080    \n",
            "_________________________________________________________________\n",
            "block3_conv3 (Conv2D)        (None, 62, 62, 256)       590080    \n",
            "_________________________________________________________________\n",
            "block3_pool (MaxPooling2D)   (None, 31, 31, 256)       0         \n",
            "_________________________________________________________________\n",
            "block4_conv1 (Conv2D)        (None, 31, 31, 512)       1180160   \n",
            "_________________________________________________________________\n",
            "block4_conv2 (Conv2D)        (None, 31, 31, 512)       2359808   \n",
            "_________________________________________________________________\n",
            "block4_conv3 (Conv2D)        (None, 31, 31, 512)       2359808   \n",
            "_________________________________________________________________\n",
            "block4_pool (MaxPooling2D)   (None, 15, 15, 512)       0         \n",
            "_________________________________________________________________\n",
            "block5_conv1 (Conv2D)        (None, 15, 15, 512)       2359808   \n",
            "_________________________________________________________________\n",
            "block5_conv2 (Conv2D)        (None, 15, 15, 512)       2359808   \n",
            "_________________________________________________________________\n",
            "block5_conv3 (Conv2D)        (None, 15, 15, 512)       2359808   \n",
            "_________________________________________________________________\n",
            "block5_pool (MaxPooling2D)   (None, 7, 7, 512)         0         \n",
            "=================================================================\n",
            "Total params: 14,714,688\n",
            "Trainable params: 0\n",
            "Non-trainable params: 14,714,688\n",
            "_________________________________________________________________\n"
          ],
          "name": "stdout"
        }
      ]
    },
    {
      "metadata": {
        "id": "mtuVlMu07TU9",
        "colab_type": "text"
      },
      "cell_type": "markdown",
      "source": [
        ""
      ]
    },
    {
      "metadata": {
        "id": "ILl_oKSVyjCb",
        "colab_type": "code",
        "colab": {}
      },
      "cell_type": "code",
      "source": [
        ""
      ],
      "execution_count": 0,
      "outputs": []
    },
    {
      "metadata": {
        "id": "xIqNd-bm05QL",
        "colab_type": "code",
        "colab": {}
      },
      "cell_type": "code",
      "source": [
        "#Extracting the features and labels as numpy arrays\n",
        "#predict function of conv_base is used to get the features of the image\n",
        "datagen = ImageDataGenerator(rescale=1./255)\n",
        "batch_size = 20\n",
        "def extract_features(directory, sample_count):\n",
        "  features = np.zeros(shape=(sample_count, 7, 7, 512))\n",
        "  labels = np.zeros(shape=(sample_count,8))\n",
        "  generator = datagen.flow_from_directory( directory,\n",
        "  target_size=(250, 250),\n",
        "  batch_size=batch_size,\n",
        "  shuffle = False,                               \n",
        "  class_mode='categorical')\n",
        "  print(generator.class_indices)\n",
        "  i = 0\n",
        "  for inputs_batch, labels_batch in generator:\n",
        "    features_batch = conv_base.predict(inputs_batch)\n",
        "    features[i * batch_size : (i + 1) * batch_size] = features_batch\n",
        "    labels[i * batch_size : (i + 1) * batch_size,:] = labels_batch\n",
        "    i += 1\n",
        "    if i * batch_size >= sample_count:\n",
        "        break\n",
        "  return features, labels"
      ],
      "execution_count": 0,
      "outputs": []
    },
    {
      "metadata": {
        "id": "358XaMkr2DrZ",
        "colab_type": "code",
        "colab": {
          "base_uri": "https://localhost:8080/",
          "height": 139
        },
        "outputId": "399b3956-9acb-4d98-89d5-c3759617ec7f"
      },
      "cell_type": "code",
      "source": [
        "train_features, train_labels = extract_features(trainDir, 1763)\n",
        "validation_features, validation_labels = extract_features(valDir, 384)\n",
        "test_features, test_labels = extract_features(testDir, 409)"
      ],
      "execution_count": 39,
      "outputs": [
        {
          "output_type": "stream",
          "text": [
            "Found 1763 images belonging to 8 classes.\n",
            "{'Arijit Singh': 0, 'Armaan Malik': 1, 'Atif Aslam': 2, 'Honey Singh': 3, 'Raahat Fateh Ali Khan': 4, 'Shreya Ghoshal': 5, 'Sonu Nigam': 6, 'Sunidhi Chauhan': 7}\n",
            "Found 384 images belonging to 8 classes.\n",
            "{'Arijit Singh': 0, 'Armaan Malik': 1, 'Atif Aslam': 2, 'Honey Singh': 3, 'Raahat Fateh Ali Khan': 4, 'Shreya Ghoshal': 5, 'Sonu Nigam': 6, 'Sunidhi Chauhan': 7}\n",
            "Found 409 images belonging to 8 classes.\n",
            "{'Arijit Singh': 0, 'Armaan Malik': 1, 'Atif Aslam': 2, 'Honey Singh': 3, 'Raahat Fateh Ali Khan': 4, 'Shreya Ghoshal': 5, 'Sonu Nigam': 6, 'Sunidhi Chauhan': 7}\n"
          ],
          "name": "stdout"
        }
      ]
    },
    {
      "metadata": {
        "id": "MGpuzZVA7HEs",
        "colab_type": "code",
        "colab": {}
      },
      "cell_type": "code",
      "source": [
        "train_features = np.reshape(train_features, (1763, 7 * 7 * 512))\n",
        "validation_features = np.reshape(validation_features, (384, 7 * 7 * 512))\n",
        "test_features = np.reshape(test_features, (409, 7 * 7 * 512))"
      ],
      "execution_count": 0,
      "outputs": []
    },
    {
      "metadata": {
        "id": "z6J7aM254iY6",
        "colab_type": "code",
        "colab": {}
      },
      "cell_type": "code",
      "source": [
        "from keras import optimizers\n",
        "model.compile(loss='categorical_crossentropy',optimizer=optimizers.RMSprop(lr = 1e-4),metrics=['acc'])"
      ],
      "execution_count": 0,
      "outputs": []
    },
    {
      "metadata": {
        "id": "9Y8UW-tayxcS",
        "colab_type": "code",
        "outputId": "e9140cd2-3d00-4511-bf9f-7038752c79df",
        "colab": {
          "base_uri": "https://localhost:8080/",
          "height": 3434
        }
      },
      "cell_type": "code",
      "source": [
        "history = model.fit(train_features, train_labels,\n",
        "epochs=100,\n",
        "batch_size=20,\n",
        "validation_data=(validation_features, validation_labels))"
      ],
      "execution_count": 44,
      "outputs": [
        {
          "output_type": "stream",
          "text": [
            "Train on 1763 samples, validate on 384 samples\n",
            "Epoch 1/100\n",
            "1763/1763 [==============================] - 3s 2ms/step - loss: 2.1735 - acc: 0.1923 - val_loss: 2.1604 - val_acc: 0.1823\n",
            "Epoch 2/100\n",
            "1763/1763 [==============================] - 3s 2ms/step - loss: 1.9454 - acc: 0.2479 - val_loss: 2.1300 - val_acc: 0.2656\n",
            "Epoch 3/100\n",
            "1763/1763 [==============================] - 3s 2ms/step - loss: 1.8102 - acc: 0.3210 - val_loss: 2.4979 - val_acc: 0.1302\n",
            "Epoch 4/100\n",
            "1763/1763 [==============================] - 3s 2ms/step - loss: 1.7404 - acc: 0.3454 - val_loss: 2.0658 - val_acc: 0.2812\n",
            "Epoch 5/100\n",
            "1763/1763 [==============================] - 3s 2ms/step - loss: 1.6378 - acc: 0.3948 - val_loss: 2.0691 - val_acc: 0.2292\n",
            "Epoch 6/100\n",
            "1763/1763 [==============================] - 3s 2ms/step - loss: 1.5956 - acc: 0.4124 - val_loss: 2.7971 - val_acc: 0.1276\n",
            "Epoch 7/100\n",
            "1763/1763 [==============================] - 3s 2ms/step - loss: 1.5721 - acc: 0.4243 - val_loss: 2.1573 - val_acc: 0.2005\n",
            "Epoch 8/100\n",
            "1763/1763 [==============================] - 3s 2ms/step - loss: 1.5032 - acc: 0.4560 - val_loss: 1.9202 - val_acc: 0.2682\n",
            "Epoch 9/100\n",
            "1763/1763 [==============================] - 3s 2ms/step - loss: 1.4574 - acc: 0.4628 - val_loss: 2.0141 - val_acc: 0.2734\n",
            "Epoch 10/100\n",
            "1763/1763 [==============================] - 3s 2ms/step - loss: 1.4211 - acc: 0.4929 - val_loss: 2.2274 - val_acc: 0.2682\n",
            "Epoch 11/100\n",
            "1763/1763 [==============================] - 3s 2ms/step - loss: 1.3798 - acc: 0.5009 - val_loss: 2.0833 - val_acc: 0.2917\n",
            "Epoch 12/100\n",
            "1763/1763 [==============================] - 3s 2ms/step - loss: 1.3370 - acc: 0.5009 - val_loss: 2.5855 - val_acc: 0.2292\n",
            "Epoch 13/100\n",
            "1763/1763 [==============================] - 3s 2ms/step - loss: 1.3250 - acc: 0.5406 - val_loss: 1.9269 - val_acc: 0.3047\n",
            "Epoch 14/100\n",
            "1763/1763 [==============================] - 3s 2ms/step - loss: 1.2690 - acc: 0.5417 - val_loss: 1.8154 - val_acc: 0.3359\n",
            "Epoch 15/100\n",
            "1763/1763 [==============================] - 3s 2ms/step - loss: 1.2429 - acc: 0.5706 - val_loss: 2.2929 - val_acc: 0.2266\n",
            "Epoch 16/100\n",
            "1763/1763 [==============================] - 3s 2ms/step - loss: 1.2204 - acc: 0.5729 - val_loss: 1.9262 - val_acc: 0.3359\n",
            "Epoch 17/100\n",
            "1763/1763 [==============================] - 3s 2ms/step - loss: 1.1931 - acc: 0.5735 - val_loss: 1.7765 - val_acc: 0.3620\n",
            "Epoch 18/100\n",
            "1763/1763 [==============================] - 3s 2ms/step - loss: 1.1628 - acc: 0.5854 - val_loss: 1.7888 - val_acc: 0.3490\n",
            "Epoch 19/100\n",
            "1763/1763 [==============================] - 3s 2ms/step - loss: 1.1450 - acc: 0.5944 - val_loss: 2.3766 - val_acc: 0.2057\n",
            "Epoch 20/100\n",
            "1763/1763 [==============================] - 3s 2ms/step - loss: 1.1113 - acc: 0.6200 - val_loss: 1.7986 - val_acc: 0.3307\n",
            "Epoch 21/100\n",
            "1763/1763 [==============================] - 3s 2ms/step - loss: 1.0861 - acc: 0.6290 - val_loss: 2.0906 - val_acc: 0.3281\n",
            "Epoch 22/100\n",
            "1763/1763 [==============================] - 3s 2ms/step - loss: 1.0537 - acc: 0.6432 - val_loss: 1.8250 - val_acc: 0.3490\n",
            "Epoch 23/100\n",
            "1763/1763 [==============================] - 3s 2ms/step - loss: 1.0401 - acc: 0.6489 - val_loss: 2.4566 - val_acc: 0.2292\n",
            "Epoch 24/100\n",
            "1763/1763 [==============================] - 3s 2ms/step - loss: 1.0163 - acc: 0.6472 - val_loss: 1.6910 - val_acc: 0.3932\n",
            "Epoch 25/100\n",
            "1763/1763 [==============================] - 3s 2ms/step - loss: 0.9950 - acc: 0.6529 - val_loss: 2.0127 - val_acc: 0.3073\n",
            "Epoch 26/100\n",
            "1763/1763 [==============================] - 3s 2ms/step - loss: 0.9641 - acc: 0.6801 - val_loss: 2.3405 - val_acc: 0.2682\n",
            "Epoch 27/100\n",
            "1763/1763 [==============================] - 3s 2ms/step - loss: 0.9698 - acc: 0.6619 - val_loss: 1.8734 - val_acc: 0.3490\n",
            "Epoch 28/100\n",
            "1763/1763 [==============================] - 3s 2ms/step - loss: 0.9283 - acc: 0.6846 - val_loss: 1.9756 - val_acc: 0.3594\n",
            "Epoch 29/100\n",
            "1763/1763 [==============================] - 3s 2ms/step - loss: 0.9015 - acc: 0.6931 - val_loss: 1.8358 - val_acc: 0.3828\n",
            "Epoch 30/100\n",
            "1763/1763 [==============================] - 3s 2ms/step - loss: 0.8803 - acc: 0.7050 - val_loss: 1.8211 - val_acc: 0.3880\n",
            "Epoch 31/100\n",
            "1763/1763 [==============================] - 3s 2ms/step - loss: 0.8845 - acc: 0.7039 - val_loss: 1.9674 - val_acc: 0.3802\n",
            "Epoch 32/100\n",
            "1763/1763 [==============================] - 3s 2ms/step - loss: 0.8532 - acc: 0.7130 - val_loss: 1.8750 - val_acc: 0.3620\n",
            "Epoch 33/100\n",
            "1763/1763 [==============================] - 3s 2ms/step - loss: 0.8338 - acc: 0.7209 - val_loss: 1.8245 - val_acc: 0.3646\n",
            "Epoch 34/100\n",
            "1763/1763 [==============================] - 3s 2ms/step - loss: 0.8123 - acc: 0.7260 - val_loss: 2.0130 - val_acc: 0.3542\n",
            "Epoch 35/100\n",
            "1763/1763 [==============================] - 3s 2ms/step - loss: 0.8182 - acc: 0.7391 - val_loss: 1.7927 - val_acc: 0.3828\n",
            "Epoch 36/100\n",
            "1763/1763 [==============================] - 3s 2ms/step - loss: 0.7969 - acc: 0.7345 - val_loss: 1.6455 - val_acc: 0.4245\n",
            "Epoch 37/100\n",
            "1763/1763 [==============================] - 3s 2ms/step - loss: 0.7628 - acc: 0.7510 - val_loss: 2.5668 - val_acc: 0.2682\n",
            "Epoch 38/100\n",
            "1763/1763 [==============================] - 3s 2ms/step - loss: 0.7750 - acc: 0.7391 - val_loss: 1.6615 - val_acc: 0.4375\n",
            "Epoch 39/100\n",
            "1763/1763 [==============================] - 3s 2ms/step - loss: 0.7521 - acc: 0.7396 - val_loss: 2.3554 - val_acc: 0.2839\n",
            "Epoch 40/100\n",
            "1763/1763 [==============================] - 3s 2ms/step - loss: 0.7359 - acc: 0.7703 - val_loss: 1.6418 - val_acc: 0.4063\n",
            "Epoch 41/100\n",
            "1763/1763 [==============================] - 3s 2ms/step - loss: 0.7081 - acc: 0.7703 - val_loss: 2.6965 - val_acc: 0.2813\n",
            "Epoch 42/100\n",
            "1763/1763 [==============================] - 3s 2ms/step - loss: 0.6945 - acc: 0.7691 - val_loss: 1.9016 - val_acc: 0.4219\n",
            "Epoch 43/100\n",
            "1763/1763 [==============================] - 3s 2ms/step - loss: 0.6802 - acc: 0.7703 - val_loss: 2.4565 - val_acc: 0.3151\n",
            "Epoch 44/100\n",
            "1763/1763 [==============================] - 3s 2ms/step - loss: 0.6766 - acc: 0.7691 - val_loss: 1.8181 - val_acc: 0.4089\n",
            "Epoch 45/100\n",
            "1763/1763 [==============================] - 3s 2ms/step - loss: 0.6541 - acc: 0.7839 - val_loss: 1.7418 - val_acc: 0.4531\n",
            "Epoch 46/100\n",
            "1763/1763 [==============================] - 3s 2ms/step - loss: 0.6427 - acc: 0.7958 - val_loss: 1.8357 - val_acc: 0.4036\n",
            "Epoch 47/100\n",
            "1763/1763 [==============================] - 3s 2ms/step - loss: 0.6373 - acc: 0.7879 - val_loss: 2.0862 - val_acc: 0.3516\n",
            "Epoch 48/100\n",
            "1763/1763 [==============================] - 3s 2ms/step - loss: 0.6190 - acc: 0.7981 - val_loss: 1.7955 - val_acc: 0.3620\n",
            "Epoch 49/100\n",
            "1763/1763 [==============================] - 3s 2ms/step - loss: 0.6027 - acc: 0.7964 - val_loss: 1.7785 - val_acc: 0.4089\n",
            "Epoch 50/100\n",
            "1763/1763 [==============================] - 3s 2ms/step - loss: 0.5982 - acc: 0.8054 - val_loss: 1.9532 - val_acc: 0.3984\n",
            "Epoch 51/100\n",
            "1763/1763 [==============================] - 3s 2ms/step - loss: 0.5816 - acc: 0.8123 - val_loss: 2.0049 - val_acc: 0.4141\n",
            "Epoch 52/100\n",
            "1763/1763 [==============================] - 3s 2ms/step - loss: 0.5534 - acc: 0.8219 - val_loss: 2.5125 - val_acc: 0.3464\n",
            "Epoch 53/100\n",
            "1763/1763 [==============================] - 3s 2ms/step - loss: 0.5497 - acc: 0.8242 - val_loss: 2.0642 - val_acc: 0.4010\n",
            "Epoch 54/100\n",
            "1763/1763 [==============================] - 3s 2ms/step - loss: 0.5377 - acc: 0.8327 - val_loss: 2.6623 - val_acc: 0.3047\n",
            "Epoch 55/100\n",
            "1763/1763 [==============================] - 3s 2ms/step - loss: 0.5341 - acc: 0.8383 - val_loss: 1.8333 - val_acc: 0.4036\n",
            "Epoch 56/100\n",
            "1763/1763 [==============================] - 3s 2ms/step - loss: 0.5197 - acc: 0.8338 - val_loss: 1.7390 - val_acc: 0.4271\n",
            "Epoch 57/100\n",
            "1763/1763 [==============================] - 3s 2ms/step - loss: 0.5135 - acc: 0.8389 - val_loss: 2.3795 - val_acc: 0.3542\n",
            "Epoch 58/100\n",
            "1763/1763 [==============================] - 3s 2ms/step - loss: 0.4989 - acc: 0.8531 - val_loss: 1.9094 - val_acc: 0.4323\n",
            "Epoch 59/100\n",
            "1763/1763 [==============================] - 3s 2ms/step - loss: 0.4869 - acc: 0.8508 - val_loss: 1.7049 - val_acc: 0.4531\n",
            "Epoch 60/100\n",
            "1763/1763 [==============================] - 3s 2ms/step - loss: 0.4740 - acc: 0.8491 - val_loss: 1.9640 - val_acc: 0.4219\n",
            "Epoch 61/100\n",
            "1763/1763 [==============================] - 3s 2ms/step - loss: 0.4716 - acc: 0.8559 - val_loss: 1.8258 - val_acc: 0.4297\n",
            "Epoch 62/100\n",
            "1763/1763 [==============================] - 3s 2ms/step - loss: 0.4695 - acc: 0.8429 - val_loss: 2.0193 - val_acc: 0.4062\n",
            "Epoch 63/100\n",
            "1763/1763 [==============================] - 3s 2ms/step - loss: 0.4445 - acc: 0.8520 - val_loss: 1.7516 - val_acc: 0.4635\n",
            "Epoch 64/100\n",
            "1763/1763 [==============================] - 3s 2ms/step - loss: 0.4530 - acc: 0.8599 - val_loss: 2.3097 - val_acc: 0.3698\n",
            "Epoch 65/100\n",
            "1763/1763 [==============================] - 3s 2ms/step - loss: 0.4249 - acc: 0.8650 - val_loss: 2.1141 - val_acc: 0.3672\n",
            "Epoch 66/100\n",
            "1763/1763 [==============================] - 3s 2ms/step - loss: 0.4160 - acc: 0.8729 - val_loss: 2.0289 - val_acc: 0.4427\n",
            "Epoch 67/100\n",
            "1763/1763 [==============================] - 3s 2ms/step - loss: 0.3990 - acc: 0.8752 - val_loss: 1.9876 - val_acc: 0.4141\n",
            "Epoch 68/100\n",
            "1763/1763 [==============================] - 3s 2ms/step - loss: 0.3968 - acc: 0.8798 - val_loss: 1.6762 - val_acc: 0.4661\n",
            "Epoch 69/100\n",
            "1763/1763 [==============================] - 3s 2ms/step - loss: 0.3834 - acc: 0.8820 - val_loss: 2.2209 - val_acc: 0.4089\n",
            "Epoch 70/100\n",
            "1763/1763 [==============================] - 3s 2ms/step - loss: 0.4006 - acc: 0.8735 - val_loss: 1.6420 - val_acc: 0.4740\n",
            "Epoch 71/100\n",
            "1763/1763 [==============================] - 3s 2ms/step - loss: 0.3843 - acc: 0.8849 - val_loss: 2.2620 - val_acc: 0.4167\n",
            "Epoch 72/100\n",
            "1763/1763 [==============================] - 3s 2ms/step - loss: 0.3752 - acc: 0.8843 - val_loss: 1.7268 - val_acc: 0.4844\n",
            "Epoch 73/100\n",
            "1763/1763 [==============================] - 3s 2ms/step - loss: 0.3574 - acc: 0.8979 - val_loss: 3.1120 - val_acc: 0.2839\n",
            "Epoch 74/100\n",
            "1763/1763 [==============================] - 3s 2ms/step - loss: 0.3690 - acc: 0.8849 - val_loss: 1.8573 - val_acc: 0.4453\n",
            "Epoch 75/100\n",
            "1763/1763 [==============================] - 3s 2ms/step - loss: 0.3358 - acc: 0.9041 - val_loss: 2.3991 - val_acc: 0.3802\n",
            "Epoch 76/100\n",
            "1763/1763 [==============================] - 3s 2ms/step - loss: 0.3579 - acc: 0.8968 - val_loss: 2.2274 - val_acc: 0.4089\n",
            "Epoch 77/100\n",
            "1763/1763 [==============================] - 3s 2ms/step - loss: 0.3390 - acc: 0.8922 - val_loss: 2.0686 - val_acc: 0.4453\n",
            "Epoch 78/100\n",
            "1763/1763 [==============================] - 3s 2ms/step - loss: 0.3163 - acc: 0.9070 - val_loss: 1.9403 - val_acc: 0.4557\n",
            "Epoch 79/100\n",
            "1763/1763 [==============================] - 3s 2ms/step - loss: 0.3192 - acc: 0.9064 - val_loss: 1.7422 - val_acc: 0.4740\n",
            "Epoch 80/100\n",
            "1763/1763 [==============================] - 3s 2ms/step - loss: 0.3158 - acc: 0.9081 - val_loss: 2.0947 - val_acc: 0.4063\n",
            "Epoch 81/100\n",
            "1763/1763 [==============================] - 3s 2ms/step - loss: 0.3071 - acc: 0.9109 - val_loss: 2.0805 - val_acc: 0.4401\n",
            "Epoch 82/100\n",
            "1763/1763 [==============================] - 3s 2ms/step - loss: 0.2867 - acc: 0.9240 - val_loss: 2.1145 - val_acc: 0.4375\n",
            "Epoch 83/100\n",
            "1763/1763 [==============================] - 3s 2ms/step - loss: 0.2832 - acc: 0.9172 - val_loss: 1.8225 - val_acc: 0.4505\n",
            "Epoch 84/100\n",
            "1763/1763 [==============================] - 3s 2ms/step - loss: 0.2907 - acc: 0.9132 - val_loss: 3.7041 - val_acc: 0.2526\n",
            "Epoch 85/100\n",
            "1763/1763 [==============================] - 3s 2ms/step - loss: 0.2818 - acc: 0.9138 - val_loss: 1.9242 - val_acc: 0.4427\n",
            "Epoch 86/100\n",
            "1763/1763 [==============================] - 3s 2ms/step - loss: 0.2695 - acc: 0.9183 - val_loss: 2.5236 - val_acc: 0.3828\n",
            "Epoch 87/100\n",
            "1763/1763 [==============================] - 3s 2ms/step - loss: 0.2678 - acc: 0.9206 - val_loss: 2.8304 - val_acc: 0.3698\n",
            "Epoch 88/100\n",
            "1763/1763 [==============================] - 3s 2ms/step - loss: 0.2601 - acc: 0.9217 - val_loss: 1.8800 - val_acc: 0.4844\n",
            "Epoch 89/100\n",
            "1763/1763 [==============================] - 3s 2ms/step - loss: 0.2603 - acc: 0.9240 - val_loss: 2.7351 - val_acc: 0.3724\n",
            "Epoch 90/100\n",
            "1763/1763 [==============================] - 3s 2ms/step - loss: 0.2529 - acc: 0.9285 - val_loss: 2.5097 - val_acc: 0.3672\n",
            "Epoch 91/100\n",
            "1763/1763 [==============================] - 3s 2ms/step - loss: 0.2373 - acc: 0.9319 - val_loss: 1.9922 - val_acc: 0.4687\n",
            "Epoch 92/100\n",
            "1763/1763 [==============================] - 3s 2ms/step - loss: 0.2211 - acc: 0.9416 - val_loss: 2.2773 - val_acc: 0.3984\n",
            "Epoch 93/100\n",
            "1763/1763 [==============================] - 3s 2ms/step - loss: 0.2319 - acc: 0.9331 - val_loss: 2.2709 - val_acc: 0.4245\n",
            "Epoch 94/100\n",
            "1763/1763 [==============================] - 3s 2ms/step - loss: 0.2366 - acc: 0.9302 - val_loss: 2.7372 - val_acc: 0.3438\n",
            "Epoch 95/100\n",
            "1763/1763 [==============================] - 3s 2ms/step - loss: 0.2340 - acc: 0.9382 - val_loss: 2.1858 - val_acc: 0.4245\n",
            "Epoch 96/100\n",
            "1763/1763 [==============================] - 3s 2ms/step - loss: 0.2204 - acc: 0.9353 - val_loss: 1.9601 - val_acc: 0.4427\n",
            "Epoch 97/100\n",
            "1763/1763 [==============================] - 3s 2ms/step - loss: 0.2074 - acc: 0.9421 - val_loss: 2.0358 - val_acc: 0.4688\n",
            "Epoch 98/100\n",
            "1763/1763 [==============================] - 3s 2ms/step - loss: 0.2172 - acc: 0.9370 - val_loss: 2.3276 - val_acc: 0.4349\n",
            "Epoch 99/100\n",
            "1763/1763 [==============================] - 3s 2ms/step - loss: 0.2001 - acc: 0.9404 - val_loss: 2.5674 - val_acc: 0.3802\n",
            "Epoch 100/100\n",
            "1763/1763 [==============================] - 3s 2ms/step - loss: 0.2196 - acc: 0.9325 - val_loss: 2.0522 - val_acc: 0.4583\n"
          ],
          "name": "stdout"
        }
      ]
    },
    {
      "metadata": {
        "id": "yk03CBUriqif",
        "colab_type": "code",
        "colab": {
          "base_uri": "https://localhost:8080/",
          "height": 51
        },
        "outputId": "0dfe3e9c-f15d-49ec-be4a-1122045ce693"
      },
      "cell_type": "code",
      "source": [
        "model.evaluate(test_features,test_labels, batch_size = 20)"
      ],
      "execution_count": 45,
      "outputs": [
        {
          "output_type": "stream",
          "text": [
            "409/409 [==============================] - 0s 307us/step\n"
          ],
          "name": "stdout"
        },
        {
          "output_type": "execute_result",
          "data": {
            "text/plain": [
              "[2.1987171322471646, 0.4523227398800675]"
            ]
          },
          "metadata": {
            "tags": []
          },
          "execution_count": 45
        }
      ]
    },
    {
      "metadata": {
        "id": "CxL_btlJisLp",
        "colab_type": "code",
        "colab": {}
      },
      "cell_type": "code",
      "source": [
        "test_predictions = model.predict(test_features,batch_size=20)"
      ],
      "execution_count": 0,
      "outputs": []
    },
    {
      "metadata": {
        "id": "mL4tLKfjixMz",
        "colab_type": "code",
        "colab": {
          "base_uri": "https://localhost:8080/",
          "height": 34
        },
        "outputId": "6831a80a-6743-4bfe-a6ac-b1fe560a44e5"
      },
      "cell_type": "code",
      "source": [
        "test_predictions.shape"
      ],
      "execution_count": 47,
      "outputs": [
        {
          "output_type": "execute_result",
          "data": {
            "text/plain": [
              "(409, 8)"
            ]
          },
          "metadata": {
            "tags": []
          },
          "execution_count": 47
        }
      ]
    },
    {
      "metadata": {
        "id": "u5ejiHIR6rc-",
        "colab_type": "text"
      },
      "cell_type": "markdown",
      "source": [
        ""
      ]
    },
    {
      "metadata": {
        "id": "CDLPQYYT0k08",
        "colab_type": "code",
        "colab": {}
      },
      "cell_type": "code",
      "source": [
        "y_pred = []\n",
        "for i in test_predictions:\n",
        "  max = -1\n",
        "  pos=-1\n",
        "  for j in range(8):\n",
        "    if i[j] > max:\n",
        "      max=i[j]\n",
        "      pos = j\n",
        "  y_pred.append(pos)"
      ],
      "execution_count": 0,
      "outputs": []
    },
    {
      "metadata": {
        "id": "i9Jg513yyf3p",
        "colab_type": "code",
        "colab": {}
      },
      "cell_type": "code",
      "source": [
        "y_test = []\n",
        "for i in test_labels:\n",
        "  max = -1\n",
        "  pos=-1\n",
        "  for j in range(8):\n",
        "    if i[j] > max:\n",
        "      max=i[j]\n",
        "      pos = j\n",
        "  y_test.append(pos)"
      ],
      "execution_count": 0,
      "outputs": []
    },
    {
      "metadata": {
        "id": "nS2SldKpMLKl",
        "colab_type": "code",
        "colab": {}
      },
      "cell_type": "code",
      "source": [
        "y_train = []\n",
        "for i in train_labels:\n",
        "  max = -1\n",
        "  pos=-1\n",
        "  for j in range(8):\n",
        "    if i[j] > max:\n",
        "      max=i[j]\n",
        "      pos = j\n",
        "  y_train.append(pos)"
      ],
      "execution_count": 0,
      "outputs": []
    },
    {
      "metadata": {
        "id": "inQheBD-lcye",
        "colab_type": "code",
        "colab": {}
      },
      "cell_type": "code",
      "source": [
        "y_pred = np.array(y_pred)\n",
        "y_test = np.array(y_test)\n",
        "y_train = np.array(y_train)"
      ],
      "execution_count": 0,
      "outputs": []
    },
    {
      "metadata": {
        "id": "Xrn_eNexxmTi",
        "colab_type": "code",
        "colab": {}
      },
      "cell_type": "code",
      "source": [
        "from sklearn.metrics import confusion_matrix"
      ],
      "execution_count": 0,
      "outputs": []
    },
    {
      "metadata": {
        "id": "jgvMUMJeyW3x",
        "colab_type": "code",
        "colab": {
          "base_uri": "https://localhost:8080/",
          "height": 153
        },
        "outputId": "2fecbb4b-66ed-47b5-e904-cf4f7312efce"
      },
      "cell_type": "code",
      "source": [
        "print(confusion_matrix(y_test,y_pred))"
      ],
      "execution_count": 53,
      "outputs": [
        {
          "output_type": "stream",
          "text": [
            "[[ 9  7  6  3  4  1  1 17]\n",
            " [ 2 30 11  2  1  3  2  4]\n",
            " [ 2  5 21  0  5  1  0  6]\n",
            " [ 1  0  4 21 10  0  0 12]\n",
            " [ 3  3  6  0 36  3  1  4]\n",
            " [ 5  2  7  0  3 25  0 11]\n",
            " [ 4  2  6  0 14  1 13 16]\n",
            " [ 4  0  2  0 13  4  0 30]]\n"
          ],
          "name": "stdout"
        }
      ]
    },
    {
      "metadata": {
        "id": "wMcZnkt9yskD",
        "colab_type": "code",
        "colab": {}
      },
      "cell_type": "code",
      "source": [
        "'Arijit Singh': 0, 'Armaan Malik': 1, 'Atif Aslam': 2, 'Honey Singh': 3, 'Raahat Fateh Ali Khan': 4, 'Shreya Ghoshal': 5, 'Sonu Nigam': 6, 'Sunidhi Chauhan': 7}"
      ],
      "execution_count": 0,
      "outputs": []
    },
    {
      "metadata": {
        "id": "C7HYLXrGCGqj",
        "colab_type": "code",
        "colab": {}
      },
      "cell_type": "code",
      "source": [
        "from sklearn.model_selection import GridSearchCV\n",
        "from xgboost import XGBClassifier"
      ],
      "execution_count": 0,
      "outputs": []
    },
    {
      "metadata": {
        "id": "q3ym9k8xLiqZ",
        "colab_type": "code",
        "colab": {
          "base_uri": "https://localhost:8080/",
          "height": 119
        },
        "outputId": "d166fe16-fc2e-4578-a1ea-18dc5cfbfe52"
      },
      "cell_type": "code",
      "source": [
        "clf = XGBClassifier(n_threads=-1,n_estimators=50)\n",
        "clf.fit(train_features,y_train)"
      ],
      "execution_count": 57,
      "outputs": [
        {
          "output_type": "execute_result",
          "data": {
            "text/plain": [
              "XGBClassifier(base_score=0.5, booster='gbtree', colsample_bylevel=1,\n",
              "       colsample_bytree=1, gamma=0, learning_rate=0.1, max_delta_step=0,\n",
              "       max_depth=3, min_child_weight=1, missing=None, n_estimators=50,\n",
              "       n_jobs=1, n_threads=-1, nthread=None, objective='multi:softprob',\n",
              "       random_state=0, reg_alpha=0, reg_lambda=1, scale_pos_weight=1,\n",
              "       seed=None, silent=True, subsample=1)"
            ]
          },
          "metadata": {
            "tags": []
          },
          "execution_count": 57
        }
      ]
    },
    {
      "metadata": {
        "id": "dys5ESH7frqf",
        "colab_type": "code",
        "colab": {
          "base_uri": "https://localhost:8080/",
          "height": 34
        },
        "outputId": "25ad29c2-a53b-4b94-bc8c-4832e609b890"
      },
      "cell_type": "code",
      "source": [
        "clf.score(test_features,y_test)"
      ],
      "execution_count": 58,
      "outputs": [
        {
          "output_type": "execute_result",
          "data": {
            "text/plain": [
              "0.4254278728606357"
            ]
          },
          "metadata": {
            "tags": []
          },
          "execution_count": 58
        }
      ]
    },
    {
      "metadata": {
        "id": "GsTRTdp2kFqS",
        "colab_type": "code",
        "colab": {}
      },
      "cell_type": "code",
      "source": [
        ""
      ],
      "execution_count": 0,
      "outputs": []
    }
  ]
}